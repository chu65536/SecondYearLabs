{
  "nbformat": 4,
  "nbformat_minor": 0,
  "metadata": {
    "colab": {
      "provenance": []
    },
    "kernelspec": {
      "name": "python3",
      "display_name": "Python 3"
    },
    "language_info": {
      "name": "python"
    }
  },
  "cells": [
    {
      "cell_type": "markdown",
      "source": [
        "3)\tСчитайте строку из нескольких слов. К каждому слову припишите справа количество букв в слове, и объедините обратно в строку. Результат – в печать."
      ],
      "metadata": {
        "id": "jaSra402x4so"
      }
    },
    {
      "cell_type": "code",
      "source": [
        "ip = input()\n",
        "arr = ip.split()\n",
        "\n",
        "for i in range(len(arr)):\n",
        "    arr[i] += str(len(arr[i]))\n",
        "\n",
        "op = ' '.join(arr)\n",
        "print(op)"
      ],
      "metadata": {
        "colab": {
          "base_uri": "https://localhost:8080/"
        },
        "id": "mkpVOdhgx9fa",
        "outputId": "9078fe0f-1bf7-4eba-cadb-47999cc1a87f"
      },
      "execution_count": null,
      "outputs": [
        {
          "output_type": "stream",
          "name": "stdout",
          "text": [
            "a bb ccc\n",
            "a1 bb2 ccc3\n"
          ]
        }
      ]
    },
    {
      "cell_type": "markdown",
      "source": [
        "4)\tСчитайте строку, разбейте на слова. Каждое слово переверните наоборот, и составьте обратно в строку. Результат на печать. Пример: Позавчера было жарко -> аречвазоП олыб окраж\n"
      ],
      "metadata": {
        "id": "Bv_oOISu56bD"
      }
    },
    {
      "cell_type": "code",
      "source": [
        "ip = input()\n",
        "arr = ip.split()\n",
        "\n",
        "for i in range(len(arr)):\n",
        "    arr[i] = arr[i][::-1]\n",
        "\n",
        "op = ' '.join(arr)\n",
        "print(op)"
      ],
      "metadata": {
        "colab": {
          "base_uri": "https://localhost:8080/"
        },
        "id": "4JRtq54s6MdE",
        "outputId": "05f83559-68dc-4f2d-f881-294dde2f5155"
      },
      "execution_count": null,
      "outputs": [
        {
          "output_type": "stream",
          "name": "stdout",
          "text": [
            "Позавчера было жарко \n",
            "аречвазоП олыб окраж\n"
          ]
        }
      ]
    },
    {
      "cell_type": "markdown",
      "source": [
        "2)\tНапишите функцию векторного произведения двух трёхмерных векторов (массивов из 3 чисел)."
      ],
      "metadata": {
        "id": "7s8mjfGku9iR"
      }
    },
    {
      "cell_type": "code",
      "source": [
        "def multiply(a, b):\n",
        "    i = a[1] * b[2] - a[2] * b[1]\n",
        "    j = -(a[0] * b[2] - a[2] * b[0])\n",
        "    k = a[0] * b[1] - a[1] * b[0]\n",
        "\n",
        "    c = [i, j, k]\n",
        "    return c\n",
        "\n",
        "ip1 = input('vector 1: ')\n",
        "ip2 = input('vector 2: ')\n",
        "\n",
        "a = [int(x) for x in ip1.split()]\n",
        "b = [int(x) for x in ip2.split()]\n",
        "\n",
        "print(multiply(a, b))"
      ],
      "metadata": {
        "colab": {
          "base_uri": "https://localhost:8080/"
        },
        "id": "3cFK33CJvFVZ",
        "outputId": "87902dcd-d431-42ca-d5b8-0b73d7570982"
      },
      "execution_count": null,
      "outputs": [
        {
          "output_type": "stream",
          "name": "stdout",
          "text": [
            "vector 1: 1 2 3\n",
            "vector 2: 2 1 -2\n",
            "[-7, 8, -3]\n"
          ]
        }
      ]
    },
    {
      "cell_type": "markdown",
      "source": [
        "1)\tНапишите класс «Обед», в котором находится несколько объектов класса «Еда», которые обладают характеристиками калорийности, вкусности, цены (далее – на вашу фантазию). В Обеде должна быть функция получения характеристики обеда: дешёвый, пойдёт, дорогой; вкусный, так себе, это невозможно есть; на таких харчах ты не дойдёшь до дома, как надо, на таких харчах ты в дом не поместишься (Это примеры по всем характеристикам – плод вашей фантазии)"
      ],
      "metadata": {
        "id": "91dqhd-1xI0H"
      }
    },
    {
      "cell_type": "code",
      "source": [
        "class lunch:\n",
        "    def __init__ (self, name, menu):\n",
        "        self.name = name\n",
        "        self.menu = menu\n",
        "\n",
        "    def getInfo(self):\n",
        "        svalue = 0\n",
        "        ataste = 0\n",
        "        sprice = 0\n",
        "\n",
        "        for pos in self.menu:\n",
        "            svalue += pos.value\n",
        "            ataste += pos.taste\n",
        "            sprice += pos.price\n",
        "\n",
        "        ataste /= len(self.menu)\n",
        "\n",
        "        print(self.name)\n",
        "        print('Калорийность:', self.rateValue(svalue))\n",
        "        print('Вкус:', self.rateTaste(ataste))\n",
        "        print('Цена:', self.ratePrice(sprice))\n",
        "        print()\n",
        "\n",
        "    def rateValue(self, value):\n",
        "        if value < 750:\n",
        "            return 'На таких харчах ты не дойдёшь до дома...'\n",
        "        if 750 <= value and value <= 1500:\n",
        "            return 'Как надо'\n",
        "        if 1500 < value:\n",
        "            return 'На таких харчах ты в дом не поместишься...'\n",
        "        \n",
        "    def rateTaste(self, taste):\n",
        "        if taste < 7:\n",
        "            return 'Это невозможно есть...'\n",
        "        if 7 <= taste and taste < 9:\n",
        "            return 'Пойдет'\n",
        "        if 9 <= taste:\n",
        "            return 'Вкусно и точка'\n",
        "    def ratePrice(self, price):\n",
        "        if price < 200:\n",
        "            return 'Дешёвка'\n",
        "        if 200 <= price and price <= 400:\n",
        "            return 'В самый раз' \n",
        "        if 400 < price:\n",
        "            return 'Грабёж'    \n",
        "\n",
        "class food:\n",
        "    def __init__(self, value, taste, price):\n",
        "        self.value = value\n",
        "        self.taste = taste\n",
        "        self.price = price\n",
        "\n",
        "\n",
        "\n",
        "chickenhit = food(484, 10, 109)\n",
        "bspecial = food(800, 8, 269)\n",
        "kfree = food(330, 5, 85)\n",
        "nuggies = food(402, 7, 99)\n",
        "cola = food(170, 9, 99)\n",
        "\n",
        "menu1 = [chickenhit, kfree, cola]\n",
        "menu2 = [bspecial, kfree, kfree, nuggies, nuggies, cola]\n",
        "menu3 = [cola]\n",
        "\n",
        "lunch1 = lunch('ChickenHit combo', menu1)\n",
        "lunch2 = lunch('Bigspecial XXL combo', menu2)\n",
        "lunch3 = lunch('Cola combo', menu3)\n",
        "\n",
        "lunch1.getInfo()\n",
        "lunch2.getInfo()\n",
        "lunch3.getInfo()\n",
        "\n"
      ],
      "metadata": {
        "colab": {
          "base_uri": "https://localhost:8080/"
        },
        "id": "DH-pPhj_x25p",
        "outputId": "95212461-e86e-4e02-dd1c-64ef15fc3eb2"
      },
      "execution_count": null,
      "outputs": [
        {
          "output_type": "stream",
          "name": "stdout",
          "text": [
            "ChickenHit combo\n",
            "Калорийность: Как надо\n",
            "Вкус: Пойдет\n",
            "Цена: В самый раз\n",
            "\n",
            "Bigspecial XXL combo\n",
            "Калорийность: На таких харчах ты в дом не поместишься...\n",
            "Вкус: Это невозможно есть...\n",
            "Цена: Грабёж\n",
            "\n",
            "Cola combo\n",
            "Калорийность: На таких харчах ты не дойдёшь до дома...\n",
            "Вкус: Вкусно и точка\n",
            "Цена: Дешёвка\n",
            "\n"
          ]
        }
      ]
    }
  ]
}